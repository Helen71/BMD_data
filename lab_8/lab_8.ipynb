{
 "cells": [
  {
   "cell_type": "markdown",
   "metadata": {},
   "source": [
    "## Комп'ютерний практикум №8\n",
    "- з Обробки Біо-Медичних Даних\n",
    "- студентки ФБМІ, групи БС-81\n",
    "- Дворіцької Олени"
   ]
  },
  {
   "cell_type": "markdown",
   "metadata": {},
   "source": [
    "## Завдання \n",
    " - Розрахувати та вивести у вигляді таблиці статистичні характиристики даних (середні та стандартні відхилення для кожної з груп).\n",
    " - Побудувати графік розкиду в групах.\n",
    " - Побудувати функцію, що реалізовує однофакторний дисперсійний аналіз.\n",
    " - Вивести результати розрахунку кожного з етапів вказаних вище у вигляді таблиці.\n",
    " - Перевірити результат роботи функції на реальних або сгенерованих даних. Зробити висновок."
   ]
  },
  {
   "cell_type": "code",
   "execution_count": 1,
   "metadata": {},
   "outputs": [],
   "source": [
    "import pandas as pd  \n",
    "import numpy as np \n",
    "import matplotlib.pyplot as mp  \n",
    "import math  \n",
    "%matplotlib inline"
   ]
  },
  {
   "cell_type": "code",
   "execution_count": 28,
   "metadata": {},
   "outputs": [
    {
     "name": "stdout",
     "output_type": "stream",
     "text": [
      "these data show statistics in 3 chess openings between Australia\"s top 15 strongest players for black\n"
     ]
    },
    {
     "data": {
      "text/html": [
       "<div>\n",
       "<style scoped>\n",
       "    .dataframe tbody tr th:only-of-type {\n",
       "        vertical-align: middle;\n",
       "    }\n",
       "\n",
       "    .dataframe tbody tr th {\n",
       "        vertical-align: top;\n",
       "    }\n",
       "\n",
       "    .dataframe thead th {\n",
       "        text-align: right;\n",
       "    }\n",
       "</style>\n",
       "<table border=\"1\" class=\"dataframe\">\n",
       "  <thead>\n",
       "    <tr style=\"text-align: right;\">\n",
       "      <th></th>\n",
       "      <th>Nordic defense</th>\n",
       "      <th>Sicilian Defense</th>\n",
       "      <th>Old Indian Defense</th>\n",
       "    </tr>\n",
       "  </thead>\n",
       "  <tbody>\n",
       "    <tr>\n",
       "      <th>0</th>\n",
       "      <td>62.0</td>\n",
       "      <td>69.0</td>\n",
       "      <td>52.0</td>\n",
       "    </tr>\n",
       "    <tr>\n",
       "      <th>1</th>\n",
       "      <td>49.0</td>\n",
       "      <td>77.0</td>\n",
       "      <td>82.0</td>\n",
       "    </tr>\n",
       "    <tr>\n",
       "      <th>2</th>\n",
       "      <td>55.0</td>\n",
       "      <td>59.0</td>\n",
       "      <td>61.0</td>\n",
       "    </tr>\n",
       "    <tr>\n",
       "      <th>3</th>\n",
       "      <td>64.0</td>\n",
       "      <td>64.0</td>\n",
       "      <td>64.0</td>\n",
       "    </tr>\n",
       "    <tr>\n",
       "      <th>4</th>\n",
       "      <td>82.0</td>\n",
       "      <td>85.0</td>\n",
       "      <td>64.0</td>\n",
       "    </tr>\n",
       "    <tr>\n",
       "      <th>5</th>\n",
       "      <td>15.0</td>\n",
       "      <td>29.0</td>\n",
       "      <td>66.0</td>\n",
       "    </tr>\n",
       "    <tr>\n",
       "      <th>6</th>\n",
       "      <td>43.0</td>\n",
       "      <td>40.0</td>\n",
       "      <td>44.0</td>\n",
       "    </tr>\n",
       "    <tr>\n",
       "      <th>7</th>\n",
       "      <td>65.0</td>\n",
       "      <td>39.0</td>\n",
       "      <td>62.0</td>\n",
       "    </tr>\n",
       "    <tr>\n",
       "      <th>8</th>\n",
       "      <td>60.0</td>\n",
       "      <td>43.0</td>\n",
       "      <td>53.0</td>\n",
       "    </tr>\n",
       "    <tr>\n",
       "      <th>9</th>\n",
       "      <td>56.0</td>\n",
       "      <td>61.0</td>\n",
       "      <td>74.0</td>\n",
       "    </tr>\n",
       "    <tr>\n",
       "      <th>10</th>\n",
       "      <td>67.0</td>\n",
       "      <td>71.0</td>\n",
       "      <td>54.0</td>\n",
       "    </tr>\n",
       "    <tr>\n",
       "      <th>11</th>\n",
       "      <td>61.0</td>\n",
       "      <td>75.0</td>\n",
       "      <td>61.0</td>\n",
       "    </tr>\n",
       "    <tr>\n",
       "      <th>12</th>\n",
       "      <td>84.0</td>\n",
       "      <td>55.0</td>\n",
       "      <td>52.0</td>\n",
       "    </tr>\n",
       "    <tr>\n",
       "      <th>13</th>\n",
       "      <td>58.0</td>\n",
       "      <td>52.0</td>\n",
       "      <td>53.0</td>\n",
       "    </tr>\n",
       "    <tr>\n",
       "      <th>14</th>\n",
       "      <td>37.0</td>\n",
       "      <td>67.0</td>\n",
       "      <td>81.0</td>\n",
       "    </tr>\n",
       "  </tbody>\n",
       "</table>\n",
       "</div>"
      ],
      "text/plain": [
       "    Nordic defense  Sicilian Defense  Old Indian Defense\n",
       "0             62.0              69.0                52.0\n",
       "1             49.0              77.0                82.0\n",
       "2             55.0              59.0                61.0\n",
       "3             64.0              64.0                64.0\n",
       "4             82.0              85.0                64.0\n",
       "5             15.0              29.0                66.0\n",
       "6             43.0              40.0                44.0\n",
       "7             65.0              39.0                62.0\n",
       "8             60.0              43.0                53.0\n",
       "9             56.0              61.0                74.0\n",
       "10            67.0              71.0                54.0\n",
       "11            61.0              75.0                61.0\n",
       "12            84.0              55.0                52.0\n",
       "13            58.0              52.0                53.0\n",
       "14            37.0              67.0                81.0"
      ]
     },
     "execution_count": 28,
     "metadata": {},
     "output_type": "execute_result"
    }
   ],
   "source": [
    "data =  pd.DataFrame ( {\n",
    "    'Nordic defense':  np.around(np.random.normal(60,14,15)), \n",
    "    'Sicilian Defense':  np.around(np.random.normal(60,14,15)), \n",
    "    'Old Indian Defense':     np.around(np.random.normal(60,14,15)),\n",
    "})  \n",
    "\n",
    "print('these data show statistics in 3 chess openings between Australia\"s top 15 strongest players for black') \n",
    "data"
   ]
  },
  {
   "cell_type": "code",
   "execution_count": 29,
   "metadata": {},
   "outputs": [
    {
     "data": {
      "text/html": [
       "<div>\n",
       "<style scoped>\n",
       "    .dataframe tbody tr th:only-of-type {\n",
       "        vertical-align: middle;\n",
       "    }\n",
       "\n",
       "    .dataframe tbody tr th {\n",
       "        vertical-align: top;\n",
       "    }\n",
       "\n",
       "    .dataframe thead th {\n",
       "        text-align: right;\n",
       "    }\n",
       "</style>\n",
       "<table border=\"1\" class=\"dataframe\">\n",
       "  <thead>\n",
       "    <tr style=\"text-align: right;\">\n",
       "      <th></th>\n",
       "      <th>mean</th>\n",
       "      <th>standard deviation</th>\n",
       "    </tr>\n",
       "  </thead>\n",
       "  <tbody>\n",
       "    <tr>\n",
       "      <th>Nordic defense</th>\n",
       "      <td>57.200000</td>\n",
       "      <td>16.424372</td>\n",
       "    </tr>\n",
       "    <tr>\n",
       "      <th>Sicilian Defense</th>\n",
       "      <td>59.066667</td>\n",
       "      <td>15.437904</td>\n",
       "    </tr>\n",
       "    <tr>\n",
       "      <th>Old Indian Defense</th>\n",
       "      <td>61.533333</td>\n",
       "      <td>10.575864</td>\n",
       "    </tr>\n",
       "  </tbody>\n",
       "</table>\n",
       "</div>"
      ],
      "text/plain": [
       "                         mean  standard deviation\n",
       "Nordic defense      57.200000           16.424372\n",
       "Sicilian Defense    59.066667           15.437904\n",
       "Old Indian Defense  61.533333           10.575864"
      ]
     },
     "execution_count": 29,
     "metadata": {},
     "output_type": "execute_result"
    }
   ],
   "source": [
    "c_names=list(data.columns) \n",
    "first_values=np.array(data[c_names[0]]) \n",
    "second_values=np.array(data[c_names[1]]) \n",
    "third_values=np.array(data[c_names[2]])  \n",
    "\n",
    "\n",
    "n_data= pd.DataFrame({'mean' : {'Nordic defense': np.mean(first_values), 'Sicilian Defense' :np.mean(second_values),'Old Indian Defense':np.mean(third_values)},\n",
    "        'standard deviation': {'Nordic defense':np.std(first_values), 'Sicilian Defense':np.std(second_values),'Old Indian Defense':np.std(third_values)}, \n",
    "                     }) \n",
    "n_data"
   ]
  },
  {
   "cell_type": "code",
   "execution_count": 5,
   "metadata": {},
   "outputs": [
    {
     "data": {
      "image/png": "[encoded data removed]",
      "text/plain": [
       "<Figure size 432x288 with 1 Axes>"
      ]
     },
     "metadata": {
      "needs_background": "light"
     },
     "output_type": "display_data"
    }
   ],
   "source": [
    "mp.boxplot(data, vert=True,patch_artist=True);"
   ]
  },
  {
   "cell_type": "code",
   "execution_count": 6,
   "metadata": {},
   "outputs": [],
   "source": [
    "def take_column_data(data): \n",
    "    arr_with_val=[]\n",
    "    c_names=list(data.columns) \n",
    "    for val in range(len(c_names)):\n",
    "        arr_with_val.append(np.array(data[c_names[val]]))\n",
    "    return arr_with_val\n",
    "\n",
    "def get_T_range(data):\n",
    "    arr_with_val=take_column_data(data)\n",
    "    arr_with_summ=list(map(np.sum,arr_with_val))   \n",
    "    arr_with_T_summ =list(map(lambda x:x*x,arr_with_summ))\n",
    "    F_T=np.sum(arr_with_T_summ)\n",
    "    return arr_with_summ, F_T \n",
    "\n",
    "def get_n(data): \n",
    "    n=int(len(data))\n",
    "    return n \n",
    "\n",
    "def get_c():\n",
    "    c=int(len(data.columns))\n",
    "    return c\n",
    "\n",
    "def get_N():\n",
    "    n=get_n(data)\n",
    "    n_of_columns=get_c()\n",
    "    N= n*n_of_columns\n",
    "    return N\n",
    "\n",
    "def get_the_square_of_the_total(): \n",
    "    col_meanings=get_T_range(data)[0]\n",
    "    square_of_the_total=np.power(np.sum(col_meanings),2)\n",
    "    return square_of_the_total\n",
    "   \n",
    "def get_sum_squar_ind_val():\n",
    "    col_meanings=np.array(take_column_data(data)).flatten()\n",
    "    s_squar_ind_val=float(sum((list(map(lambda x:x*x,col_meanings)))))\n",
    "    return s_squar_ind_val"
   ]
  },
  {
   "cell_type": "code",
   "execution_count": 30,
   "metadata": {},
   "outputs": [],
   "source": [
    "def get_SS_intra_group(): #SSфакт\n",
    "    S_F=get_T_range(data)[1]\n",
    "    n=get_n(data)\n",
    "    square_of_the_total_x=get_the_square_of_the_total()\n",
    "    N=get_N()\n",
    "    SS_fa=(S_F/n)-(square_of_the_total_x/N)\n",
    "    return SS_fa\n",
    "  \n",
    "#SS_intr_gr=get_SS_intra_group()"
   ]
  },
  {
   "cell_type": "code",
   "execution_count": 31,
   "metadata": {},
   "outputs": [],
   "source": [
    "def get_SS_total_group(): #SSзаг\n",
    "    s_sq_ind_val=get_sum_squar_ind_val() \n",
    "    square_of_the_total_x=get_the_square_of_the_total()\n",
    "    N=get_N() \n",
    "    SS_total_group=float(s_sq_ind_val - (square_of_the_total_x/N))\n",
    "    return SS_total_group\n",
    " \n",
    "#SS_total_gr=get_SS_total_group()"
   ]
  },
  {
   "cell_type": "code",
   "execution_count": 32,
   "metadata": {},
   "outputs": [
    {
     "data": {
      "text/plain": [
       "9299.06666666668"
      ]
     },
     "execution_count": 32,
     "metadata": {},
     "output_type": "execute_result"
    }
   ],
   "source": [
    "def get_SS_accidentally():\n",
    "    SS_total_gr=get_SS_total_group() #SSзаг\n",
    "    SS_intr_gr=get_SS_intra_group() #SSфакт\n",
    "    SS_accid=SS_total_gr-SS_intr_gr\n",
    "    return SS_accid \n",
    "\n",
    "get_SS_accidentally()"
   ]
  },
  {
   "cell_type": "code",
   "execution_count": 11,
   "metadata": {},
   "outputs": [],
   "source": [
    "def get_d_fact():\n",
    "    c=get_c()\n",
    "    d_fact=int(c-1)\n",
    "    return d_fact"
   ]
  },
  {
   "cell_type": "code",
   "execution_count": 12,
   "metadata": {},
   "outputs": [],
   "source": [
    "def get_d_comm():\n",
    "    N=get_N()\n",
    "    d_comm=N-1\n",
    "    return d_comm"
   ]
  },
  {
   "cell_type": "code",
   "execution_count": 13,
   "metadata": {},
   "outputs": [],
   "source": [
    "def get_d_accidentally():\n",
    "    d_fact=get_d_fact()\n",
    "    d_comm=get_d_comm() \n",
    "    d_acc=d_comm-d_fact\n",
    "    return d_acc"
   ]
  },
  {
   "cell_type": "code",
   "execution_count": 14,
   "metadata": {},
   "outputs": [],
   "source": [
    "def get_MS_SS_fact():\n",
    "    SS_fact=get_SS_intra_group()\n",
    "    d_fact=get_d_fact() \n",
    "    MS_SS_fact=SS_fact/d_fact \n",
    "    return MS_SS_fact"
   ]
  },
  {
   "cell_type": "code",
   "execution_count": 15,
   "metadata": {},
   "outputs": [
    {
     "data": {
      "text/plain": [
       "847.873015873015"
      ]
     },
     "execution_count": 15,
     "metadata": {},
     "output_type": "execute_result"
    }
   ],
   "source": [
    "def get_MS_SS_accidentally():\n",
    "    SS_acc=get_SS_accidentally()\n",
    "    d_acc=get_d_accidentally() \n",
    "    MS_SS_acc=SS_acc/d_acc \n",
    "    return MS_SS_acc\n",
    "\n",
    "get_MS_SS_accidentally()"
   ]
  },
  {
   "cell_type": "code",
   "execution_count": 16,
   "metadata": {},
   "outputs": [
    {
     "data": {
      "text/plain": [
       "1.2762131196645716"
      ]
     },
     "execution_count": 16,
     "metadata": {},
     "output_type": "execute_result"
    }
   ],
   "source": [
    "def get_F_emp():\n",
    "    MS_SS_fact=get_MS_SS_fact()\n",
    "    MS_SS_acc=get_MS_SS_accidentally() \n",
    "    F_emp=(MS_SS_fact)/(MS_SS_acc)\n",
    "    return F_emp \n",
    "\n",
    "get_F_emp()"
   ]
  },
  {
   "cell_type": "code",
   "execution_count": 35,
   "metadata": {},
   "outputs": [
    {
     "name": "stdout",
     "output_type": "stream",
     "text": [
      "1\n"
     ]
    }
   ],
   "source": [
    "def get_F_crit(): \n",
    "    f_up=round(get_MS_SS_fact()) \n",
    "    f_down=round(get_MS_SS_accidentally()) \n",
    "    F_values=pd.read_excel(\"Таблиця критичних значень для критерію Фішера.xlsx\")   \n",
    "    if(f_up>40 and f_down>130):\n",
    "        return F_values.iloc[31,14] \n",
    "    elif(f_down>31):\n",
    "        return F_values.iloc[f_up,14] \n",
    "    elif(f_up>40): \n",
    "        return F_values.iloc[31,f_down] \n",
    "    else:\n",
    "        return F_values.iloc[f_up,f_down] \n",
    "    \n",
    "\n",
    "print(get_F_crit())"
   ]
  },
  {
   "cell_type": "code",
   "execution_count": 33,
   "metadata": {},
   "outputs": [
    {
     "name": "stdout",
     "output_type": "stream",
     "text": [
      "The averages of independent groups are  equal\n"
     ]
    }
   ],
   "source": [
    "def conclusion():\n",
    "    F_em=get_F_emp()\n",
    "    F_crit=get_F_crit() \n",
    "    if(F_em>F_crit):\n",
    "        print('The averages of independent groups are not equal')\n",
    "    else:\n",
    "        print(\"The averages of independent groups are  equal\")\n",
    "    \n",
    "conclusion()"
   ]
  },
  {
   "cell_type": "code",
   "execution_count": 19,
   "metadata": {},
   "outputs": [
    {
     "name": "stdout",
     "output_type": "stream",
     "text": [
      "   Intragroup Variance  Groupwide Variance  Residual variance  \\\n",
      "0          2164.133333             37774.8       35610.666667   \n",
      "\n",
      "   The number of degrees of freedom (fact)  \\\n",
      "0                                        2   \n",
      "\n",
      "   The number of degrees of freedom (comm)  \\\n",
      "0                                       44   \n",
      "\n",
      "   The number of degrees of freedom (accident)    MS actual  MS accidentally  \\\n",
      "0                                           42  1082.066667       847.873016   \n",
      "\n",
      "     F empr  F tabl  \n",
      "0  1.276213       1  \n"
     ]
    }
   ],
   "source": [
    "def out():\n",
    "    counted_data = pd.DataFrame({\n",
    "        'Intragroup Variance':get_SS_intra_group(), \n",
    "        'Groupwide Variance':get_SS_total_group(), \n",
    "        \"Residual variance\":  get_SS_accidentally(), \n",
    "        \"The number of degrees of freedom (fact)\":pd.Series(get_d_fact()), \n",
    "        \"The number of degrees of freedom (comm)\":pd.Series(get_d_comm()), \n",
    "        \"The number of degrees of freedom (accident)\":pd.Series(get_d_accidentally()), \n",
    "        \"MS actual\":get_MS_SS_fact(), \n",
    "        \"MS accidentally\":get_MS_SS_accidentally(), \n",
    "        'F empr':get_F_emp(), \n",
    "        'F tabl':get_F_crit(),\n",
    "    }) \n",
    "    \n",
    "    print(counted_data)\n",
    "    \n",
    "out()"
   ]
  }
 ],
 "metadata": {
  "kernelspec": {
   "display_name": "Python 3",
   "language": "python",
   "name": "python3"
  },
  "language_info": {
   "codemirror_mode": {
    "name": "ipython",
    "version": 3
   },
   "file_extension": ".py",
   "mimetype": "text/x-python",
   "name": "python",
   "nbconvert_exporter": "python",
   "pygments_lexer": "ipython3",
   "version": "3.8.2"
  }
 },
 "nbformat": 4,
 "nbformat_minor": 4
}
