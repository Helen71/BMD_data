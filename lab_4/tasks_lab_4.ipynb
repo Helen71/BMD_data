{
 "cells": [
  {
   "cell_type": "markdown",
   "metadata": {},
   "source": [
    "# Комп'ютерний практикум №4\n",
    "- з Обробки Біо-Медичних Даних\n",
    "- студентки ФБМІ, групи БС-81\n",
    "- Дворіцької Олени\n",
    "\n",
    "Перевірка даних на нормальність за допомогою критерію Шапіра-Уілка"
   ]
  },
  {
   "cell_type": "code",
   "execution_count": 20,
   "metadata": {},
   "outputs": [],
   "source": [
    "import seaborn as sns\n",
    "import numpy as np\n",
    "import matplotlib.backends.backend_pdf\n",
    "import matplotlib.pyplot as plt\n",
    "import pandas as pd\n",
    "%matplotlib inline\n",
    "\n"
   ]
  },
  {
   "cell_type": "markdown",
   "metadata": {},
   "source": [
    "Сгенеруйте набір даних, що містить не менше 6 змінних. Частину змінних згенеруйте за нормальний розподілом, частину - за будь-яким іншим розподілом. Кількість спостережень - 20."
   ]
  },
  {
   "cell_type": "code",
   "execution_count": 45,
   "metadata": {},
   "outputs": [
    {
     "name": "stdout",
     "output_type": "stream",
     "text": [
      "{'Normal Distribution_1': array([-1.65789176, -0.37144143,  0.08662252, -0.10256572,  1.35342188,\n",
      "        0.47590799, -1.01501168, -1.77798444, -0.66433531,  1.12046767,\n",
      "        0.33997493, -0.16951494, -0.0218901 , -0.22503747,  1.31899777,\n",
      "       -1.57875773, -0.10505728,  0.58742173,  1.57072088,  1.41497312]), 'Normal Distribution_2': array([-0.01555711,  2.21668718, -1.1103425 ,  0.49549625, -1.56774335,\n",
      "       -0.40052811,  1.22394104,  0.12816242, -0.65859862,  0.20929639,\n",
      "        1.13085665, -0.34856136,  1.13644875,  0.32809345,  0.18173358,\n",
      "        0.35809675,  0.25331887,  0.49203965,  0.34821142,  2.03229873]), 'Normal Distribution_3': array([ 0.18439636, -0.62615237, -0.5820908 , -0.54785427,  0.28866162,\n",
      "       -0.20829933, -1.02841579, -0.01861652, -0.90481562,  0.74248185,\n",
      "       -1.00821994,  0.33019587, -0.92729881,  0.10186989, -0.96882649,\n",
      "       -1.97930785, -0.33436078, -0.08803385,  0.34594928, -1.71791634]), ' Beta distribution.': array([0.2752832 , 0.44619981, 0.04290394, 0.09125959, 0.39467945,\n",
      "       0.36605362, 0.17156515, 0.02936497, 0.24011607, 0.86710392,\n",
      "       0.51988963, 0.0113252 , 0.39187191, 0.42046569, 0.06172648,\n",
      "       0.80595377, 0.05832186, 0.37145474, 0.20172136, 0.92963413]), 'Uniform Distribution1': array([1.8325326 , 1.62215654, 1.65830924, 1.52870621, 1.6751099 ,\n",
      "       1.9637504 , 1.47518842, 1.52016507, 1.24557848, 1.21054004,\n",
      "       1.18163698, 1.15157817, 1.09152076, 1.58549271, 1.51095239,\n",
      "       1.66389911, 1.87421764, 1.53421585, 1.47139558, 1.58534141]), 'Uniform Distribution2': array([0.86658583, 0.65103532, 0.21530467, 0.103439  , 0.09077166,\n",
      "       0.22822418, 0.09833234, 0.47549355, 0.55824701, 0.0218783 ,\n",
      "       0.62128721, 0.69185248, 0.87890477, 0.16357356, 0.93953142,\n",
      "       0.39796077, 0.5386979 , 0.31752062, 0.78695128, 0.35356737])}\n"
     ]
    }
   ],
   "source": [
    "data={}\n",
    "data[\"Normal Distribution_1\"]=(np.random.normal(size=20))  \n",
    "data[\"Normal Distribution_2\"]=(np.random.normal(size=20))  \n",
    "data[\"Normal Distribution_3\"]=(np.random.normal(size=20))  \n",
    "data[\" Beta distribution.\"]=(np.random.beta(1,2,size=20))\n",
    "data[\"Uniform Distribution1\"]=(np.random.uniform(low=1,high=2,size=20))\n",
    "data[\"Uniform Distribution2\"]=(np.random.uniform(size=20))\n",
    "\n",
    "\n",
    "print(data)"
   ]
  },
  {
   "cell_type": "markdown",
   "metadata": {},
   "source": [
    "Створіть функцію, що реалізує критерій Шапіро-Уілка та застосуйте її до кожної змінної набору данних. Детальний опис роботи критерію та приклад його розрахунку (с. 606): https://pdfs.semanticscholar.org/e4a7/42a4f0585b4e4069726f6628f4d4285a0827.pdf"
   ]
  },
  {
   "cell_type": "code",
   "execution_count": 46,
   "metadata": {},
   "outputs": [
    {
     "name": "stdout",
     "output_type": "stream",
     "text": [
      "[20.087424279182514, 16.45169379431796, 9.660128563719624, 1.4726446481520237, 1.1125572454618577, 1.631134468206158]\n",
      "norm\n",
      "norm\n",
      "norm\n",
      "not norm\n",
      "not norm\n",
      "not norm\n"
     ]
    }
   ],
   "source": [
    "def dem_Sh_Uil(data, num_of_var ,num_of_observations=20):  \n",
    "    for val in data.values():    \n",
    "       val.sort()  \n",
    "    s=[]\n",
    "    for val in data.values(): \n",
    "        s.append(sum([ (i - np.mean(val)) **2 for i in val]))\n",
    "    print(s)\n",
    "    ex1=pd.read_excel('Coeficients for the W test for normality.xlsx')[num_of_observations-1]/10000   \n",
    "    b=[]\n",
    "    for value in data.values(): \n",
    "        first_half=value[:len(value)//2]\n",
    "        second_half=np.flip(value[len(value)//2:])\n",
    "        to_append = np.multiply(ex1[:10], (second_half-first_half))\n",
    "        b.append(to_append) \n",
    "    arr_with_s=[]\n",
    "    for i in range(len(b)):\n",
    "         arr_with_s.append(((i)**2)/s[i])\n",
    "    for i in range(len(arr_with_s)):\n",
    "        if arr_with_s[i]>0.905:\n",
    "            print('not norm')\n",
    "        else:\n",
    "            print('norm')\n",
    "        \n",
    "\n",
    "     \n",
    "dem_Sh_Uil(data,6,20)"
   ]
  },
  {
   "cell_type": "markdown",
   "metadata": {},
   "source": [
    "Сгенеруйте пусту таблицю, в якій кількість рядків - це кількість змінних + 1. Кількість стовбчиків - 3. Назва стовпчиків - Variable, Statistics, Distribution. Шаблон таблиці: https://drive.google.com/file/d/1gRNsk9UDhl_6GGkJ04q0cBWBgsJvTgI4/view?usp=sharing"
   ]
  },
  {
   "cell_type": "code",
   "execution_count": 47,
   "metadata": {},
   "outputs": [
    {
     "data": {
      "text/html": [
       "<div>\n",
       "<style scoped>\n",
       "    .dataframe tbody tr th:only-of-type {\n",
       "        vertical-align: middle;\n",
       "    }\n",
       "\n",
       "    .dataframe tbody tr th {\n",
       "        vertical-align: top;\n",
       "    }\n",
       "\n",
       "    .dataframe thead th {\n",
       "        text-align: right;\n",
       "    }\n",
       "</style>\n",
       "<table border=\"1\" class=\"dataframe\">\n",
       "  <thead>\n",
       "    <tr style=\"text-align: right;\">\n",
       "      <th></th>\n",
       "      <th>Variable</th>\n",
       "      <th>Statistics</th>\n",
       "      <th>Distribution</th>\n",
       "    </tr>\n",
       "  </thead>\n",
       "  <tbody>\n",
       "  </tbody>\n",
       "</table>\n",
       "</div>"
      ],
      "text/plain": [
       "Empty DataFrame\n",
       "Columns: [Variable, Statistics, Distribution]\n",
       "Index: []"
      ]
     },
     "execution_count": 47,
     "metadata": {},
     "output_type": "execute_result"
    }
   ],
   "source": [
    "table=pd.DataFrame(columns=[\"Variable\",\"Statistics\",\"Distribution\"]) \n",
    "table"
   ]
  },
  {
   "cell_type": "markdown",
   "metadata": {},
   "source": [
    "Занести в стовпчик Variable назви змінних."
   ]
  },
  {
   "cell_type": "code",
   "execution_count": 48,
   "metadata": {},
   "outputs": [
    {
     "data": {
      "text/html": [
       "<div>\n",
       "<style scoped>\n",
       "    .dataframe tbody tr th:only-of-type {\n",
       "        vertical-align: middle;\n",
       "    }\n",
       "\n",
       "    .dataframe tbody tr th {\n",
       "        vertical-align: top;\n",
       "    }\n",
       "\n",
       "    .dataframe thead th {\n",
       "        text-align: right;\n",
       "    }\n",
       "</style>\n",
       "<table border=\"1\" class=\"dataframe\">\n",
       "  <thead>\n",
       "    <tr style=\"text-align: right;\">\n",
       "      <th></th>\n",
       "      <th>Variable</th>\n",
       "      <th>Statistics</th>\n",
       "      <th>Distribution</th>\n",
       "    </tr>\n",
       "  </thead>\n",
       "  <tbody>\n",
       "    <tr>\n",
       "      <th>0</th>\n",
       "      <td>Normal Distribution_1</td>\n",
       "      <td>NaN</td>\n",
       "      <td>NaN</td>\n",
       "    </tr>\n",
       "    <tr>\n",
       "      <th>1</th>\n",
       "      <td>Normal Distribution_2</td>\n",
       "      <td>NaN</td>\n",
       "      <td>NaN</td>\n",
       "    </tr>\n",
       "    <tr>\n",
       "      <th>2</th>\n",
       "      <td>Normal Distribution_3</td>\n",
       "      <td>NaN</td>\n",
       "      <td>NaN</td>\n",
       "    </tr>\n",
       "    <tr>\n",
       "      <th>3</th>\n",
       "      <td>Beta distribution.</td>\n",
       "      <td>NaN</td>\n",
       "      <td>NaN</td>\n",
       "    </tr>\n",
       "    <tr>\n",
       "      <th>4</th>\n",
       "      <td>Uniform Distribution1</td>\n",
       "      <td>NaN</td>\n",
       "      <td>NaN</td>\n",
       "    </tr>\n",
       "    <tr>\n",
       "      <th>5</th>\n",
       "      <td>Uniform Distribution2</td>\n",
       "      <td>NaN</td>\n",
       "      <td>NaN</td>\n",
       "    </tr>\n",
       "  </tbody>\n",
       "</table>\n",
       "</div>"
      ],
      "text/plain": [
       "                Variable Statistics Distribution\n",
       "0  Normal Distribution_1        NaN          NaN\n",
       "1  Normal Distribution_2        NaN          NaN\n",
       "2  Normal Distribution_3        NaN          NaN\n",
       "3     Beta distribution.        NaN          NaN\n",
       "4  Uniform Distribution1        NaN          NaN\n",
       "5  Uniform Distribution2        NaN          NaN"
      ]
     },
     "execution_count": 48,
     "metadata": {},
     "output_type": "execute_result"
    }
   ],
   "source": [
    "table['Variable']=data.keys()\n",
    "table"
   ]
  },
  {
   "cell_type": "markdown",
   "metadata": {},
   "source": [
    "Занести в стовпчик Distribution результати роботи криетрію Шапіро-Уілка. Для змінних, які розподілені за нормальним законом вносити \"normal\", в протилежному вигляді - \"non-normal\"."
   ]
  },
  {
   "cell_type": "code",
   "execution_count": 49,
   "metadata": {},
   "outputs": [
    {
     "data": {
      "text/html": [
       "<div>\n",
       "<style scoped>\n",
       "    .dataframe tbody tr th:only-of-type {\n",
       "        vertical-align: middle;\n",
       "    }\n",
       "\n",
       "    .dataframe tbody tr th {\n",
       "        vertical-align: top;\n",
       "    }\n",
       "\n",
       "    .dataframe thead th {\n",
       "        text-align: right;\n",
       "    }\n",
       "</style>\n",
       "<table border=\"1\" class=\"dataframe\">\n",
       "  <thead>\n",
       "    <tr style=\"text-align: right;\">\n",
       "      <th></th>\n",
       "      <th>Variable</th>\n",
       "      <th>Statistics</th>\n",
       "      <th>Distribution</th>\n",
       "    </tr>\n",
       "  </thead>\n",
       "  <tbody>\n",
       "    <tr>\n",
       "      <th>0</th>\n",
       "      <td>Normal Distribution_1</td>\n",
       "      <td>NaN</td>\n",
       "      <td>normal</td>\n",
       "    </tr>\n",
       "    <tr>\n",
       "      <th>1</th>\n",
       "      <td>Normal Distribution_2</td>\n",
       "      <td>NaN</td>\n",
       "      <td>normal</td>\n",
       "    </tr>\n",
       "    <tr>\n",
       "      <th>2</th>\n",
       "      <td>Normal Distribution_3</td>\n",
       "      <td>NaN</td>\n",
       "      <td>normal</td>\n",
       "    </tr>\n",
       "    <tr>\n",
       "      <th>3</th>\n",
       "      <td>Beta distribution.</td>\n",
       "      <td>NaN</td>\n",
       "      <td>non-normal</td>\n",
       "    </tr>\n",
       "    <tr>\n",
       "      <th>4</th>\n",
       "      <td>Uniform Distribution1</td>\n",
       "      <td>NaN</td>\n",
       "      <td>non-normal</td>\n",
       "    </tr>\n",
       "    <tr>\n",
       "      <th>5</th>\n",
       "      <td>Uniform Distribution2</td>\n",
       "      <td>NaN</td>\n",
       "      <td>non-normal</td>\n",
       "    </tr>\n",
       "  </tbody>\n",
       "</table>\n",
       "</div>"
      ],
      "text/plain": [
       "                Variable Statistics Distribution\n",
       "0  Normal Distribution_1        NaN       normal\n",
       "1  Normal Distribution_2        NaN       normal\n",
       "2  Normal Distribution_3        NaN       normal\n",
       "3     Beta distribution.        NaN   non-normal\n",
       "4  Uniform Distribution1        NaN   non-normal\n",
       "5  Uniform Distribution2        NaN   non-normal"
      ]
     },
     "execution_count": 49,
     "metadata": {},
     "output_type": "execute_result"
    }
   ],
   "source": [
    "table[\"Distribution\"]=['normal' if 'Normal Distribution' in x else 'non-normal'\n",
    "                          for x in table[\"Variable\"]]\n",
    "table"
   ]
  },
  {
   "cell_type": "markdown",
   "metadata": {},
   "source": [
    "Розрахувати для всіх змінних, що розподілені за нормальним законом розрахувати середне значення та стандартне відхилення. Записати в таблицю. Форма запису: Середнє [стандартне відхилення]."
   ]
  },
  {
   "cell_type": "code",
   "execution_count": 51,
   "metadata": {},
   "outputs": [
    {
     "data": {
      "text/html": [
       "<div>\n",
       "<style scoped>\n",
       "    .dataframe tbody tr th:only-of-type {\n",
       "        vertical-align: middle;\n",
       "    }\n",
       "\n",
       "    .dataframe tbody tr th {\n",
       "        vertical-align: top;\n",
       "    }\n",
       "\n",
       "    .dataframe thead th {\n",
       "        text-align: right;\n",
       "    }\n",
       "</style>\n",
       "<table border=\"1\" class=\"dataframe\">\n",
       "  <thead>\n",
       "    <tr style=\"text-align: right;\">\n",
       "      <th></th>\n",
       "      <th>Variable</th>\n",
       "      <th>Statistics</th>\n",
       "      <th>Distribution</th>\n",
       "    </tr>\n",
       "  </thead>\n",
       "  <tbody>\n",
       "    <tr>\n",
       "      <th>0</th>\n",
       "      <td>Normal Distribution_1</td>\n",
       "      <td>0.029 [1.028]</td>\n",
       "      <td>normal</td>\n",
       "    </tr>\n",
       "    <tr>\n",
       "      <th>1</th>\n",
       "      <td>Normal Distribution_2</td>\n",
       "      <td>0.322 [0.931]</td>\n",
       "      <td>normal</td>\n",
       "    </tr>\n",
       "    <tr>\n",
       "      <th>2</th>\n",
       "      <td>Normal Distribution_3</td>\n",
       "      <td>-0.447 [0.713]</td>\n",
       "      <td>normal</td>\n",
       "    </tr>\n",
       "    <tr>\n",
       "      <th>3</th>\n",
       "      <td>Beta distribution.</td>\n",
       "      <td>0.321 [0.084; 0.427]</td>\n",
       "      <td>non-normal</td>\n",
       "    </tr>\n",
       "    <tr>\n",
       "      <th>4</th>\n",
       "      <td>Uniform Distribution1</td>\n",
       "      <td>1.531 [1.415; 1.660]</td>\n",
       "      <td>non-normal</td>\n",
       "    </tr>\n",
       "    <tr>\n",
       "      <th>5</th>\n",
       "      <td>Uniform Distribution2</td>\n",
       "      <td>0.437 [0.202; 0.661]</td>\n",
       "      <td>non-normal</td>\n",
       "    </tr>\n",
       "  </tbody>\n",
       "</table>\n",
       "</div>"
      ],
      "text/plain": [
       "                Variable            Statistics Distribution\n",
       "0  Normal Distribution_1         0.029 [1.028]       normal\n",
       "1  Normal Distribution_2         0.322 [0.931]       normal\n",
       "2  Normal Distribution_3        -0.447 [0.713]       normal\n",
       "3     Beta distribution.  0.321 [0.084; 0.427]   non-normal\n",
       "4  Uniform Distribution1  1.531 [1.415; 1.660]   non-normal\n",
       "5  Uniform Distribution2  0.437 [0.202; 0.661]   non-normal"
      ]
     },
     "execution_count": 51,
     "metadata": {},
     "output_type": "execute_result"
    }
   ],
   "source": [
    "n_df=pd.DataFrame((data), columns=data.keys()) \n",
    "\n",
    "for _,val in table.iterrows():\n",
    "    name = val[\"Variable\"]    \n",
    "    if val[\"Distribution\"] != \"non-normal\": \n",
    "        val[\"Statistics\"]=\"{:.3f} [{:.3f}]\".format(n_df[name].mean(),n_df[name].std()) \n",
    "    else:\n",
    "        val[\"Statistics\"]=\"{:.3f} [{:.3f}; {:.3f}]\".format(n_df[name].median(),n_df[name].quantile(0.25),n_df[name].quantile(0.75)) \n",
    "        \n",
    "table"
   ]
  },
  {
   "cell_type": "markdown",
   "metadata": {},
   "source": [
    "-Розрахувати для всіх змінних, що розподілені за розподілом відсутнім від нормального розрахувати медіану та інтерквартильний розмах. Записати в таблицю. Форма запису: Медіана [25%; 75%]. \n",
    "-Зберегти таблицю в пдф форматі"
   ]
  },
  {
   "cell_type": "code",
   "execution_count": 53,
   "metadata": {},
   "outputs": [
    {
     "data": {
      "image/png": "[encoded data removed]",
      "text/plain": [
       "<Figure size 1440x720 with 1 Axes>"
      ]
     },
     "metadata": {
      "needs_background": "light"
     },
     "output_type": "display_data"
    }
   ],
   "source": [
    "import matplotlib.pyplot as plt\n",
    "from matplotlib.backends.backend_pdf import PdfPages\n",
    "\n",
    "\n",
    "fig, ax = plt.subplots(figsize=(20,10))\n",
    "ax.axis('tight')\n",
    "ax.axis('off')\n",
    "ax.table(cellText=table.values,colLabels=table.columns,loc='center')\n",
    "\n",
    "pp = PdfPages(\"myData.pdf\")\n",
    "pp.savefig(fig, bbox_inches='tight')\n",
    "pp.close()"
   ]
  }
 ],
 "metadata": {
  "kernelspec": {
   "display_name": "Python 3",
   "language": "python",
   "name": "python3"
  },
  "language_info": {
   "codemirror_mode": {
    "name": "ipython",
    "version": 3
   },
   "file_extension": ".py",
   "mimetype": "text/x-python",
   "name": "python",
   "nbconvert_exporter": "python",
   "pygments_lexer": "ipython3",
   "version": "3.8.2"
  }
 },
 "nbformat": 4,
 "nbformat_minor": 4
}
