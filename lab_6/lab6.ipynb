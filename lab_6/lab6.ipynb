{
 "cells": [
  {
   "cell_type": "markdown",
   "metadata": {},
   "source": [
    "# Комп'ютерний практикум №6\n",
    "## Парний t-критерій Стьюдента\n",
    "- з Обробки Біо-Медичних Даних\n",
    "- студентки ФБМІ, групи БС-81\n",
    "- Дворіцької Олени\n"
   ]
  },
  {
   "cell_type": "code",
   "execution_count": 2,
   "metadata": {},
   "outputs": [],
   "source": [
    "import seaborn as sns\n",
    "import pandas as pd  \n",
    "import numpy as np \n",
    "import matplotlib.pyplot as mp  \n",
    "import math  \n",
    "%matplotlib inline"
   ]
  },
  {
   "cell_type": "markdown",
   "metadata": {},
   "source": [
    "1.Обрати реальні дані з kaggle або сгенерувати випадкові дані"
   ]
  },
  {
   "cell_type": "code",
   "execution_count": 3,
   "metadata": {},
   "outputs": [
    {
     "data": {
      "text/html": [
       "<div>\n",
       "<style scoped>\n",
       "    .dataframe tbody tr th:only-of-type {\n",
       "        vertical-align: middle;\n",
       "    }\n",
       "\n",
       "    .dataframe tbody tr th {\n",
       "        vertical-align: top;\n",
       "    }\n",
       "\n",
       "    .dataframe thead th {\n",
       "        text-align: right;\n",
       "    }\n",
       "</style>\n",
       "<table border=\"1\" class=\"dataframe\">\n",
       "  <thead>\n",
       "    <tr style=\"text-align: right;\">\n",
       "      <th></th>\n",
       "      <th>SNo</th>\n",
       "      <th>Date</th>\n",
       "      <th>Country</th>\n",
       "      <th>RegionCode</th>\n",
       "      <th>RegionName</th>\n",
       "      <th>ProvinceCode</th>\n",
       "      <th>ProvinceName</th>\n",
       "      <th>ProvinceAbbreviation</th>\n",
       "      <th>Latitude</th>\n",
       "      <th>Longitude</th>\n",
       "      <th>TotalPositiveCases</th>\n",
       "    </tr>\n",
       "  </thead>\n",
       "  <tbody>\n",
       "    <tr>\n",
       "      <th>0</th>\n",
       "      <td>0</td>\n",
       "      <td>2020-02-24T18:00:00</td>\n",
       "      <td>ITA</td>\n",
       "      <td>13</td>\n",
       "      <td>Abruzzo</td>\n",
       "      <td>69</td>\n",
       "      <td>Chieti</td>\n",
       "      <td>CH</td>\n",
       "      <td>42.351032</td>\n",
       "      <td>14.167546</td>\n",
       "      <td>0</td>\n",
       "    </tr>\n",
       "    <tr>\n",
       "      <th>1</th>\n",
       "      <td>1</td>\n",
       "      <td>2020-02-24T18:00:00</td>\n",
       "      <td>ITA</td>\n",
       "      <td>13</td>\n",
       "      <td>Abruzzo</td>\n",
       "      <td>66</td>\n",
       "      <td>L'Aquila</td>\n",
       "      <td>AQ</td>\n",
       "      <td>42.351222</td>\n",
       "      <td>13.398438</td>\n",
       "      <td>0</td>\n",
       "    </tr>\n",
       "    <tr>\n",
       "      <th>2</th>\n",
       "      <td>2</td>\n",
       "      <td>2020-02-24T18:00:00</td>\n",
       "      <td>ITA</td>\n",
       "      <td>13</td>\n",
       "      <td>Abruzzo</td>\n",
       "      <td>68</td>\n",
       "      <td>Pescara</td>\n",
       "      <td>PE</td>\n",
       "      <td>42.464584</td>\n",
       "      <td>14.213648</td>\n",
       "      <td>0</td>\n",
       "    </tr>\n",
       "    <tr>\n",
       "      <th>3</th>\n",
       "      <td>3</td>\n",
       "      <td>2020-02-24T18:00:00</td>\n",
       "      <td>ITA</td>\n",
       "      <td>13</td>\n",
       "      <td>Abruzzo</td>\n",
       "      <td>67</td>\n",
       "      <td>Teramo</td>\n",
       "      <td>TE</td>\n",
       "      <td>42.658918</td>\n",
       "      <td>13.704400</td>\n",
       "      <td>0</td>\n",
       "    </tr>\n",
       "    <tr>\n",
       "      <th>4</th>\n",
       "      <td>4</td>\n",
       "      <td>2020-02-24T18:00:00</td>\n",
       "      <td>ITA</td>\n",
       "      <td>13</td>\n",
       "      <td>Abruzzo</td>\n",
       "      <td>979</td>\n",
       "      <td>In fase di definizione/aggiornamento</td>\n",
       "      <td>NaN</td>\n",
       "      <td>0.000000</td>\n",
       "      <td>0.000000</td>\n",
       "      <td>0</td>\n",
       "    </tr>\n",
       "    <tr>\n",
       "      <th>...</th>\n",
       "      <td>...</td>\n",
       "      <td>...</td>\n",
       "      <td>...</td>\n",
       "      <td>...</td>\n",
       "      <td>...</td>\n",
       "      <td>...</td>\n",
       "      <td>...</td>\n",
       "      <td>...</td>\n",
       "      <td>...</td>\n",
       "      <td>...</td>\n",
       "      <td>...</td>\n",
       "    </tr>\n",
       "    <tr>\n",
       "      <th>7547</th>\n",
       "      <td>7547</td>\n",
       "      <td>2020-04-22T17:00:00</td>\n",
       "      <td>ITA</td>\n",
       "      <td>5</td>\n",
       "      <td>Veneto</td>\n",
       "      <td>26</td>\n",
       "      <td>Treviso</td>\n",
       "      <td>TV</td>\n",
       "      <td>45.667546</td>\n",
       "      <td>12.245074</td>\n",
       "      <td>2386</td>\n",
       "    </tr>\n",
       "    <tr>\n",
       "      <th>7548</th>\n",
       "      <td>7548</td>\n",
       "      <td>2020-04-22T17:00:00</td>\n",
       "      <td>ITA</td>\n",
       "      <td>5</td>\n",
       "      <td>Veneto</td>\n",
       "      <td>27</td>\n",
       "      <td>Venezia</td>\n",
       "      <td>VE</td>\n",
       "      <td>45.434905</td>\n",
       "      <td>12.338452</td>\n",
       "      <td>2279</td>\n",
       "    </tr>\n",
       "    <tr>\n",
       "      <th>7549</th>\n",
       "      <td>7549</td>\n",
       "      <td>2020-04-22T17:00:00</td>\n",
       "      <td>ITA</td>\n",
       "      <td>5</td>\n",
       "      <td>Veneto</td>\n",
       "      <td>23</td>\n",
       "      <td>Verona</td>\n",
       "      <td>VR</td>\n",
       "      <td>45.438390</td>\n",
       "      <td>10.993527</td>\n",
       "      <td>4164</td>\n",
       "    </tr>\n",
       "    <tr>\n",
       "      <th>7550</th>\n",
       "      <td>7550</td>\n",
       "      <td>2020-04-22T17:00:00</td>\n",
       "      <td>ITA</td>\n",
       "      <td>5</td>\n",
       "      <td>Veneto</td>\n",
       "      <td>24</td>\n",
       "      <td>Vicenza</td>\n",
       "      <td>VI</td>\n",
       "      <td>45.547497</td>\n",
       "      <td>11.545971</td>\n",
       "      <td>2433</td>\n",
       "    </tr>\n",
       "    <tr>\n",
       "      <th>7551</th>\n",
       "      <td>7551</td>\n",
       "      <td>2020-04-22T17:00:00</td>\n",
       "      <td>ITA</td>\n",
       "      <td>5</td>\n",
       "      <td>Veneto</td>\n",
       "      <td>999</td>\n",
       "      <td>In fase di definizione/aggiornamento</td>\n",
       "      <td>NaN</td>\n",
       "      <td>0.000000</td>\n",
       "      <td>0.000000</td>\n",
       "      <td>346</td>\n",
       "    </tr>\n",
       "  </tbody>\n",
       "</table>\n",
       "<p>7552 rows × 11 columns</p>\n",
       "</div>"
      ],
      "text/plain": [
       "       SNo                 Date Country  RegionCode RegionName  ProvinceCode  \\\n",
       "0        0  2020-02-24T18:00:00     ITA          13    Abruzzo            69   \n",
       "1        1  2020-02-24T18:00:00     ITA          13    Abruzzo            66   \n",
       "2        2  2020-02-24T18:00:00     ITA          13    Abruzzo            68   \n",
       "3        3  2020-02-24T18:00:00     ITA          13    Abruzzo            67   \n",
       "4        4  2020-02-24T18:00:00     ITA          13    Abruzzo           979   \n",
       "...    ...                  ...     ...         ...        ...           ...   \n",
       "7547  7547  2020-04-22T17:00:00     ITA           5     Veneto            26   \n",
       "7548  7548  2020-04-22T17:00:00     ITA           5     Veneto            27   \n",
       "7549  7549  2020-04-22T17:00:00     ITA           5     Veneto            23   \n",
       "7550  7550  2020-04-22T17:00:00     ITA           5     Veneto            24   \n",
       "7551  7551  2020-04-22T17:00:00     ITA           5     Veneto           999   \n",
       "\n",
       "                              ProvinceName ProvinceAbbreviation   Latitude  \\\n",
       "0                                   Chieti                   CH  42.351032   \n",
       "1                                 L'Aquila                   AQ  42.351222   \n",
       "2                                  Pescara                   PE  42.464584   \n",
       "3                                   Teramo                   TE  42.658918   \n",
       "4     In fase di definizione/aggiornamento                  NaN   0.000000   \n",
       "...                                    ...                  ...        ...   \n",
       "7547                               Treviso                   TV  45.667546   \n",
       "7548                               Venezia                   VE  45.434905   \n",
       "7549                                Verona                   VR  45.438390   \n",
       "7550                               Vicenza                   VI  45.547497   \n",
       "7551  In fase di definizione/aggiornamento                  NaN   0.000000   \n",
       "\n",
       "      Longitude  TotalPositiveCases  \n",
       "0     14.167546                   0  \n",
       "1     13.398438                   0  \n",
       "2     14.213648                   0  \n",
       "3     13.704400                   0  \n",
       "4      0.000000                   0  \n",
       "...         ...                 ...  \n",
       "7547  12.245074                2386  \n",
       "7548  12.338452                2279  \n",
       "7549  10.993527                4164  \n",
       "7550  11.545971                2433  \n",
       "7551   0.000000                 346  \n",
       "\n",
       "[7552 rows x 11 columns]"
      ]
     },
     "execution_count": 3,
     "metadata": {},
     "output_type": "execute_result"
    }
   ],
   "source": [
    "dataset = pd.read_csv(\"covid19_italy_province.csv\")\n",
    "dataset"
   ]
  },
  {
   "cell_type": "code",
   "execution_count": 4,
   "metadata": {},
   "outputs": [
    {
     "data": {
      "text/html": [
       "<div>\n",
       "<style scoped>\n",
       "    .dataframe tbody tr th:only-of-type {\n",
       "        vertical-align: middle;\n",
       "    }\n",
       "\n",
       "    .dataframe tbody tr th {\n",
       "        vertical-align: top;\n",
       "    }\n",
       "\n",
       "    .dataframe thead th {\n",
       "        text-align: right;\n",
       "    }\n",
       "</style>\n",
       "<table border=\"1\" class=\"dataframe\">\n",
       "  <thead>\n",
       "    <tr style=\"text-align: right;\">\n",
       "      <th></th>\n",
       "      <th>Latitude</th>\n",
       "      <th>Longitude</th>\n",
       "    </tr>\n",
       "    <tr>\n",
       "      <th>Person</th>\n",
       "      <th></th>\n",
       "      <th></th>\n",
       "    </tr>\n",
       "  </thead>\n",
       "  <tbody>\n",
       "    <tr>\n",
       "      <th>0</th>\n",
       "      <td>42.351032</td>\n",
       "      <td>14.167546</td>\n",
       "    </tr>\n",
       "    <tr>\n",
       "      <th>1</th>\n",
       "      <td>42.351222</td>\n",
       "      <td>13.398438</td>\n",
       "    </tr>\n",
       "    <tr>\n",
       "      <th>2</th>\n",
       "      <td>42.464584</td>\n",
       "      <td>14.213648</td>\n",
       "    </tr>\n",
       "    <tr>\n",
       "      <th>3</th>\n",
       "      <td>42.658918</td>\n",
       "      <td>13.704400</td>\n",
       "    </tr>\n",
       "    <tr>\n",
       "      <th>4</th>\n",
       "      <td>0.000000</td>\n",
       "      <td>0.000000</td>\n",
       "    </tr>\n",
       "    <tr>\n",
       "      <th>...</th>\n",
       "      <td>...</td>\n",
       "      <td>...</td>\n",
       "    </tr>\n",
       "    <tr>\n",
       "      <th>7547</th>\n",
       "      <td>45.667546</td>\n",
       "      <td>12.245074</td>\n",
       "    </tr>\n",
       "    <tr>\n",
       "      <th>7548</th>\n",
       "      <td>45.434905</td>\n",
       "      <td>12.338452</td>\n",
       "    </tr>\n",
       "    <tr>\n",
       "      <th>7549</th>\n",
       "      <td>45.438390</td>\n",
       "      <td>10.993527</td>\n",
       "    </tr>\n",
       "    <tr>\n",
       "      <th>7550</th>\n",
       "      <td>45.547497</td>\n",
       "      <td>11.545971</td>\n",
       "    </tr>\n",
       "    <tr>\n",
       "      <th>7551</th>\n",
       "      <td>0.000000</td>\n",
       "      <td>0.000000</td>\n",
       "    </tr>\n",
       "  </tbody>\n",
       "</table>\n",
       "<p>7552 rows × 2 columns</p>\n",
       "</div>"
      ],
      "text/plain": [
       "         Latitude  Longitude\n",
       "Person                      \n",
       "0       42.351032  14.167546\n",
       "1       42.351222  13.398438\n",
       "2       42.464584  14.213648\n",
       "3       42.658918  13.704400\n",
       "4        0.000000   0.000000\n",
       "...           ...        ...\n",
       "7547    45.667546  12.245074\n",
       "7548    45.434905  12.338452\n",
       "7549    45.438390  10.993527\n",
       "7550    45.547497  11.545971\n",
       "7551     0.000000   0.000000\n",
       "\n",
       "[7552 rows x 2 columns]"
      ]
     },
     "execution_count": 4,
     "metadata": {},
     "output_type": "execute_result"
    }
   ],
   "source": [
    "DF = pd.DataFrame(columns = [\"Latitude\", \"Longitude\"], index = [i for i in range(len(dataset))])\n",
    "DF[\"Latitude\"] = dataset[\"Latitude\"]\n",
    "DF[\"Longitude\"] = dataset[\"Longitude\"]\n",
    "DF.index.name = \"Person\"\n",
    "DF"
   ]
  },
  {
   "cell_type": "markdown",
   "metadata": {},
   "source": [
    "1.Побудувати графік, що відображає розкид даних в групах."
   ]
  },
  {
   "cell_type": "code",
   "execution_count": 5,
   "metadata": {},
   "outputs": [
    {
     "data": {
      "text/plain": [
       "[Text(0.5, 0, 'tilt')]"
      ]
     },
     "execution_count": 5,
     "metadata": {},
     "output_type": "execute_result"
    },
    {
     "data": {
      "image/png": "[encoded data removed]",
      "text/plain": [
       "<Figure size 432x288 with 1 Axes>"
      ]
     },
     "metadata": {
      "needs_background": "light"
     },
     "output_type": "display_data"
    }
   ],
   "source": [
    "sns.boxplot(data = DF, orient = 'h').set(xlabel='tilt')"
   ]
  },
  {
   "cell_type": "markdown",
   "metadata": {},
   "source": [
    "1.Написати функції: для оцінки зв'язку між групами за коефіцієнтом кореляції Пірсона.  \n",
    "2.Функція має повертати значення коефіцієнту кореляції, значення ступеня свободи та результат оцінки значимості зв'зку (significant або not significant).\n",
    "для визначення відмінності між групами за критерієм Стьюдента.  \n",
    "3.Функція має повертати значення критерію Стьюдента,значення ступеня свободи та результат оцінки значимості зв'зку (significant або not significant)."
   ]
  },
  {
   "cell_type": "code",
   "execution_count": 6,
   "metadata": {},
   "outputs": [],
   "source": [
    "def pearson(df):\n",
    "    correlation_table = pd.read_excel(\"Таблиця критичних значень кореляційного аналізу.xlsx\")\n",
    "    r1 = len(df)*(sum(df.iloc[:,0]*df.iloc[:,1])) - sum(df.iloc[:,0])*sum(df.iloc[:,1])\n",
    "    r2 = (len(df)*sum(df.iloc[:,0]**2) - sum(df.iloc[:,0])**2)*(len(df)*sum(df.iloc[:,1]**2) - sum(df.iloc[:,1])**2)\n",
    "    my_r = r1/np.sqrt(r2)\n",
    "    df = len(df) - 2\n",
    "    table_r = 0\n",
    "    if(df < 130):\n",
    "        for i in range(len(correlation_table)):\n",
    "            if(df < int(correlation_table.iloc[i,0])):\n",
    "                if(df != correlation_table.iloc[i-1,0]):\n",
    "                    if((correlation_table.iloc[i,0]-df) >= abs(correlation_table.iloc[i-1,0]-df)):\n",
    "                        table_r = correlation_table.iloc[i-1,1]\n",
    "                    else: \n",
    "                        table_r = correlation_table.iloc[i,1]\n",
    "                    break\n",
    "                else:\n",
    "                    table_r = correlation_table.iloc[i-1,1]\n",
    "                    break\n",
    "    else:\n",
    "        table_r = correlation_table.iloc[36,1]\n",
    "    return my_r, df, \"Significant\" if abs(my_r) > table_r else \"Not significant\""
   ]
  },
  {
   "cell_type": "code",
   "execution_count": 7,
   "metadata": {},
   "outputs": [],
   "source": [
    "def student(df):\n",
    "    student_table = pd.read_excel(\"Таблица критических значений для парного критерия.xlsx\")\n",
    "    mean = np.mean(df.iloc[:,0] - df.iloc[:,1])\n",
    "    std = np.std(df.iloc[:,0] - df.iloc[:,1])\n",
    "    my_t = (mean/std)*np.sqrt(len(df))\n",
    "    df = len(df)-1\n",
    "    table_t = 0\n",
    "    for i in range(len(student_table)):\n",
    "        if(df < int(student_table.iloc[i,0])):\n",
    "            if(df != student_table.iloc[i-1,0]):\n",
    "                if((student_table.iloc[i,0]-df) >= abs(student_table.iloc[i-1,0]-df)):\n",
    "                    table_t = student_table.iloc[i-1,1]\n",
    "                else: \n",
    "                    table_t = student_table.iloc[i,1]\n",
    "                break\n",
    "            else:\n",
    "                table_t = student_table.iloc[i-1,1]\n",
    "                break\n",
    "    return my_t, df, \"Significant\" if abs(my_t) > table_t else \"Not significant\""
   ]
  },
  {
   "cell_type": "markdown",
   "metadata": {},
   "source": [
    "1.Перевірити розбіжність на між групами на даних з п. 1."
   ]
  },
  {
   "cell_type": "code",
   "execution_count": 8,
   "metadata": {},
   "outputs": [
    {
     "data": {
      "text/plain": [
       "(0.8252409056459732, 7550, 'Significant')"
      ]
     },
     "execution_count": 8,
     "metadata": {},
     "output_type": "execute_result"
    }
   ],
   "source": [
    "pearson(DF)"
   ]
  },
  {
   "cell_type": "code",
   "execution_count": 9,
   "metadata": {},
   "outputs": [
    {
     "data": {
      "text/plain": [
       "(183.33288881415862, 7551, 'Significant')"
      ]
     },
     "execution_count": 9,
     "metadata": {},
     "output_type": "execute_result"
    }
   ],
   "source": [
    "student(DF)"
   ]
  },
  {
   "cell_type": "markdown",
   "metadata": {},
   "source": [
    "1.Сформувати висновок про взаємозв'язок між групами та про їх розбіжність."
   ]
  },
  {
   "cell_type": "markdown",
   "metadata": {},
   "source": [
    "Висновок:  \n",
    "    \n",
    "Статистичної залежності між двома групами не виявлено.\n",
    "Під час перевірки груп на відмінність за критерієм Стьюдента була прийнята альтернативна гіпотеза про відмінність середніx."
   ]
  }
 ],
 "metadata": {
  "kernelspec": {
   "display_name": "Python 3",
   "language": "python",
   "name": "python3"
  },
  "language_info": {
   "codemirror_mode": {
    "name": "ipython",
    "version": 3
   },
   "file_extension": ".py",
   "mimetype": "text/x-python",
   "name": "python",
   "nbconvert_exporter": "python",
   "pygments_lexer": "ipython3",
   "version": "3.8.2"
  }
 },
 "nbformat": 4,
 "nbformat_minor": 4
}
